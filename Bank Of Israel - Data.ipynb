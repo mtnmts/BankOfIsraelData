{
 "cells": [
  {
   "cell_type": "markdown",
   "metadata": {},
   "source": [
    "Bank Of Israel (BOI) Datasets\n",
    "=============================\n",
    "\n",
    "Datasets available at http://www.boi.org.il/ under Time Series.\n",
    "There is a large amount of datasets there, but unfortunately it's not freely given in a open format easily, This is an attempt to liberate it for easier use"
   ]
  },
  {
   "cell_type": "code",
   "execution_count": 29,
   "metadata": {
    "collapsed": false
   },
   "outputs": [],
   "source": [
    "# This page was obtained by a silly url-hack on the search, simply increased the pagination size.\n",
    "# Took two pages in 800 entry pagination, just sliced them together.\n",
    "# http://www.boi.org.il/en/DataAndStatistics/_layouts/boi/handlers/WebPartHandler.aspx?wp=SeriesSearch&lang=en-US&PaggingSize=800&textOrCode=&frequency=0&priceBase=0&season=0&economicSector=0&range=0&attach=0&interestType=0&investmentType=0&webUrl=%2Fen%2FDataAndStatistics&page=2&_=1483723339736\n",
    "\n",
    "\n",
    "from lxml import etree\n",
    "from io import StringIO\n",
    "import re\n",
    "\n",
    "tmp_html = open(r'joined_dataset_list.html','rb').read()\n",
    "locs = re.findall(\"Serie Code(.*?)</div>\", tmp_html.decode('utf-8') , re.DOTALL)\n",
    "\n",
    "\n",
    "# Series Code, Data Source, Data Type, Process, Documentation\n",
    "headers = [\"SeriesCode\", \"DataSource\", \"DataType\", \"Process\", \"Documentation\"]\n",
    "dataset = list(map(re.compile('\\n\\ *(.*?)</p>').findall, locs))\n"
   ]
  },
  {
   "cell_type": "code",
   "execution_count": 42,
   "metadata": {
    "collapsed": false,
    "scrolled": true
   },
   "outputs": [
    {
     "data": {
      "text/plain": [
       "251859"
      ]
     },
     "execution_count": 42,
     "metadata": {},
     "output_type": "execute_result"
    }
   ],
   "source": [
    "import pandas as pd\n",
    "\n",
    "df = pd.DataFrame(dataset, columns=headers)\n",
    "open('boi_datasets.json','wb').write(df.to_json().encode('utf-8'))\n"
   ]
  },
  {
   "cell_type": "code",
   "execution_count": 63,
   "metadata": {
    "collapsed": false,
    "scrolled": false
   },
   "outputs": [
    {
     "name": "stderr",
     "output_type": "stream",
     "text": [
      "100%|██████████████████████████████████████████████████████████████████████████████| 1455/1455 [06:10<00:00,  4.17it/s]\n"
     ]
    }
   ],
   "source": [
    "import requests\n",
    "import concurrent\n",
    "from tqdm import tqdm\n",
    "# This takes about 5 Minutes on the 1455 i recovered\n",
    "for idx, row in tqdm(list(df.iterrows())):\n",
    "    res = requests.get(\"http://www.boi.org.il/en/DataAndStatistics/Pages/boi.ashx?Command=DownloadSeriesExcel&SeriesCode={id}|&DateStart=01/03/1975&DateEnd=30/09/2016&Level=3|&Sid=66|\".format(id=row['SeriesCode'])).text\n",
    "    open('data\\\\{id}.xls'.format(id=row.SeriesCode),'wb').write(res.encode('utf-8'))"
   ]
  },
  {
   "cell_type": "code",
   "execution_count": 83,
   "metadata": {
    "collapsed": false
   },
   "outputs": [],
   "source": [
    "import datetime\n",
    "import zipfile\n",
    "import os\n",
    "now = datetime.datetime.now()\n",
    "zf = zipfile.ZipFile(now.strftime(\"data/boi-dataset-%d.%m.%y.zip\"),'w', compression=zipfile.ZIP_LZMA)\n",
    "[zf.write('data\\\\' + f,arcname=f) for f in os.listdir(\"data\\\\\") if f.endswith('xls')]\n",
    "zf.close()\n",
    "\n"
   ]
  }
 ],
 "metadata": {
  "anaconda-cloud": {},
  "kernelspec": {
   "display_name": "Python [conda root]",
   "language": "python",
   "name": "conda-root-py"
  },
  "language_info": {
   "codemirror_mode": {
    "name": "ipython",
    "version": 3
   },
   "file_extension": ".py",
   "mimetype": "text/x-python",
   "name": "python",
   "nbconvert_exporter": "python",
   "pygments_lexer": "ipython3",
   "version": "3.5.2"
  }
 },
 "nbformat": 4,
 "nbformat_minor": 1
}
